{
 "cells": [
  {
   "cell_type": "code",
   "execution_count": 1,
   "metadata": {},
   "outputs": [],
   "source": [
    "import camb"
   ]
  },
  {
   "cell_type": "code",
   "execution_count": 2,
   "metadata": {},
   "outputs": [
    {
     "ename": "",
     "evalue": "",
     "output_type": "error",
     "traceback": [
      "\u001b[1;31mO Kernel deu pane ao executar o código na célula atual ou em uma célula anterior. \n",
      "\u001b[1;31mAnalise o código nas células para identificar uma possível causa da pane. \n",
      "\u001b[1;31mClique <a href='https://aka.ms/vscodeJupyterKernelCrash'>aqui</a> para obter mais informações. \n",
      "\u001b[1;31mConsulte Jupyter <a href='command:jupyter.viewOutput'>log</a> para obter mais detalhes."
     ]
    }
   ],
   "source": [
    "h = 0.6756\n",
    "omegam = 0.27\n",
    "omegabh2 = 0.02238280\n",
    "omegab = omegabh2/h**2\n",
    "omegac = omegam - omegab\n",
    "omegach2 = omegac*h**2\n",
    "\n",
    "cases = [\n",
    "\t{'A': 0, 'nu': 10},\n",
    "    {'A': 0.5, 'nu': 20},\n",
    "    {'A': 0.3, 'nu': 50},\n",
    "]\n",
    "\n",
    "cosmo = camb.set_params(# Background\n",
    "\tH0=100*h, ombh2=omegabh2, omch2=omegach2, TCMB=2.7255,\n",
    "\t# Dark Energy\n",
    "\tdark_energy_model = 'HybridQuintessence', phi_i = 10,\n",
    "\t# Neutrinos\n",
    "\tomnuh2=0, num_nu_massless=3.044, num_nu_massive = 0,\n",
    "\tnu_mass_degeneracies=[0], nu_mass_numbers = [0],\n",
    "\t# Initial Power Spectrum\n",
    "\tAs = 2.100549e-09, ns = 0.9660499, \n",
    "\tYHe = 0.246, WantTransfer=True\n",
    ")\n",
    "results = camb.get_results(cosmo)"
   ]
  },
  {
   "cell_type": "code",
   "execution_count": null,
   "metadata": {},
   "outputs": [],
   "source": []
  }
 ],
 "metadata": {
  "kernelspec": {
   "display_name": "Python 3",
   "language": "python",
   "name": "python3"
  },
  "language_info": {
   "codemirror_mode": {
    "name": "ipython",
    "version": 3
   },
   "file_extension": ".py",
   "mimetype": "text/x-python",
   "name": "python",
   "nbconvert_exporter": "python",
   "pygments_lexer": "ipython3",
   "version": "3.10.12"
  }
 },
 "nbformat": 4,
 "nbformat_minor": 2
}
